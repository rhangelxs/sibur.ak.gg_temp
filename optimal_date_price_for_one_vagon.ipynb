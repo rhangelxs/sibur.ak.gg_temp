{
 "cells": [
  {
   "cell_type": "markdown",
   "metadata": {},
   "source": [
    "#### Данное решение не является решением изначальной задачи. \n",
    "\n",
    "Здесь мы хотим узнать затраты на 1 итерацию запланированных ремонтов. Изначальная же задача состоит в том, чтобы для всего временного интервала и всех вагонов отдать даты ремонтов, которые могут происходить раньше запланированных."
   ]
  },
  {
   "cell_type": "code",
   "execution_count": 1,
   "metadata": {
    "ExecuteTime": {
     "end_time": "2018-05-18T13:27:27.495676Z",
     "start_time": "2018-05-18T13:27:27.478627Z"
    }
   },
   "outputs": [],
   "source": [
    "import pandas as pd\n",
    "import numpy as np"
   ]
  },
  {
   "cell_type": "code",
   "execution_count": 2,
   "metadata": {},
   "outputs": [],
   "source": [
    "import datetime\n",
    "repair_is_valid_for = datetime.timedelta(days=365)*2\n",
    "repare_types=['std_kap', 'std_ppr', 'std_dep', 'std_vogi']"
   ]
  },
  {
   "cell_type": "code",
   "execution_count": 3,
   "metadata": {
    "ExecuteTime": {
     "end_time": "2018-05-18T13:42:45.972538Z",
     "start_time": "2018-05-18T13:42:45.890420Z"
    }
   },
   "outputs": [],
   "source": [
    "# из примера, но мы этот брать не будем\n",
    "#car_num = 57463085  # возьмем только один вагон \n",
    "\n",
    "car_num = 57463507  # возьмем только один вагон \n",
    "repares = pd.read_csv('dataset/Вагоны и плановые ремонты.csv')\n",
    "\n",
    "for repair in repare_types:\n",
    "    repares[repair] = pd.to_datetime(repares[repair])\n",
    "repares[\"prev_kap\"] = repares[\"std_kap\"] - repair_is_valid_for\n",
    "repares[\"prev_ppr\"] = repares[\"std_ppr\"] - repair_is_valid_for\n",
    "repares[\"prev_dep\"] = repares[\"std_dep\"] - repair_is_valid_for\n",
    "repares[\"prev_vogi\"] = repares[\"std_dep\"] - repair_is_valid_for\n",
    "\n",
    "repares.to_json(\"repairs_date.json\")\n",
    "repare = repares[repares['car_num'] == car_num]\n",
    "repare\n",
    "repare_melt=repare.melt()\n",
    "repare_melt=repare_melt[repare_melt[\"variable\"].isin(repare_types)]\n",
    "repare_melt[\"value\"]=pd.to_datetime(repare_melt[\"value\"])"
   ]
  },
  {
   "cell_type": "code",
   "execution_count": null,
   "metadata": {},
   "outputs": [],
   "source": []
  },
  {
   "cell_type": "code",
   "execution_count": null,
   "metadata": {},
   "outputs": [],
   "source": []
  },
  {
   "cell_type": "code",
   "execution_count": null,
   "metadata": {},
   "outputs": [],
   "source": []
  },
  {
   "cell_type": "code",
   "execution_count": 4,
   "metadata": {
    "ExecuteTime": {
     "end_time": "2018-05-18T13:43:08.795205Z",
     "start_time": "2018-05-18T13:43:06.716841Z"
    },
    "scrolled": true
   },
   "outputs": [
    {
     "data": {
      "text/html": [
       "<div>\n",
       "<style scoped>\n",
       "    .dataframe tbody tr th:only-of-type {\n",
       "        vertical-align: middle;\n",
       "    }\n",
       "\n",
       "    .dataframe tbody tr th {\n",
       "        vertical-align: top;\n",
       "    }\n",
       "\n",
       "    .dataframe thead th {\n",
       "        text-align: right;\n",
       "    }\n",
       "</style>\n",
       "<table border=\"1\" class=\"dataframe\">\n",
       "  <thead>\n",
       "    <tr style=\"text-align: right;\">\n",
       "      <th></th>\n",
       "      <th>car_num</th>\n",
       "      <th>date</th>\n",
       "      <th>station_id</th>\n",
       "    </tr>\n",
       "  </thead>\n",
       "  <tbody>\n",
       "    <tr>\n",
       "      <th>687</th>\n",
       "      <td>57463507</td>\n",
       "      <td>2015-01-01</td>\n",
       "      <td>2</td>\n",
       "    </tr>\n",
       "    <tr>\n",
       "      <th>688</th>\n",
       "      <td>57463507</td>\n",
       "      <td>2015-01-25</td>\n",
       "      <td>6</td>\n",
       "    </tr>\n",
       "    <tr>\n",
       "      <th>689</th>\n",
       "      <td>57463507</td>\n",
       "      <td>2015-02-18</td>\n",
       "      <td>9</td>\n",
       "    </tr>\n",
       "    <tr>\n",
       "      <th>690</th>\n",
       "      <td>57463507</td>\n",
       "      <td>2015-03-14</td>\n",
       "      <td>5</td>\n",
       "    </tr>\n",
       "    <tr>\n",
       "      <th>691</th>\n",
       "      <td>57463507</td>\n",
       "      <td>2015-04-07</td>\n",
       "      <td>8</td>\n",
       "    </tr>\n",
       "  </tbody>\n",
       "</table>\n",
       "</div>"
      ],
      "text/plain": [
       "      car_num       date  station_id\n",
       "687  57463507 2015-01-01           2\n",
       "688  57463507 2015-01-25           6\n",
       "689  57463507 2015-02-18           9\n",
       "690  57463507 2015-03-14           5\n",
       "691  57463507 2015-04-07           8"
      ]
     },
     "execution_count": 4,
     "metadata": {},
     "output_type": "execute_result"
    }
   ],
   "source": [
    "movements = pd.read_csv('dataset/Передвижения вагонов по датам.csv')\n",
    "movements[\"date\"] = pd.to_datetime(movements[\"date\"])\n",
    "movement = movements[movements['car_num'] == car_num]\n",
    "movement.head()"
   ]
  },
  {
   "cell_type": "code",
   "execution_count": 5,
   "metadata": {
    "ExecuteTime": {
     "end_time": "2018-05-18T13:43:02.389164Z",
     "start_time": "2018-05-18T13:43:02.373211Z"
    }
   },
   "outputs": [
    {
     "data": {
      "text/html": [
       "<div>\n",
       "<style scoped>\n",
       "    .dataframe tbody tr th:only-of-type {\n",
       "        vertical-align: middle;\n",
       "    }\n",
       "\n",
       "    .dataframe tbody tr th {\n",
       "        vertical-align: top;\n",
       "    }\n",
       "\n",
       "    .dataframe thead th {\n",
       "        text-align: right;\n",
       "    }\n",
       "</style>\n",
       "<table border=\"1\" class=\"dataframe\">\n",
       "  <thead>\n",
       "    <tr style=\"text-align: right;\">\n",
       "      <th></th>\n",
       "      <th>id</th>\n",
       "      <th>repair_name</th>\n",
       "      <th>repair_cost</th>\n",
       "    </tr>\n",
       "  </thead>\n",
       "  <tbody>\n",
       "    <tr>\n",
       "      <th>0</th>\n",
       "      <td>1</td>\n",
       "      <td>Капитальный ремонт</td>\n",
       "      <td>94000000</td>\n",
       "    </tr>\n",
       "    <tr>\n",
       "      <th>1</th>\n",
       "      <td>2</td>\n",
       "      <td>Деповской ремонт</td>\n",
       "      <td>19000000</td>\n",
       "    </tr>\n",
       "    <tr>\n",
       "      <th>2</th>\n",
       "      <td>3</td>\n",
       "      <td>Плановый предупредительный ремонт</td>\n",
       "      <td>13000000</td>\n",
       "    </tr>\n",
       "    <tr>\n",
       "      <th>3</th>\n",
       "      <td>4</td>\n",
       "      <td>Вакуумная очистка и гидроиспытания (ВОиГИ)</td>\n",
       "      <td>18000000</td>\n",
       "    </tr>\n",
       "  </tbody>\n",
       "</table>\n",
       "</div>"
      ],
      "text/plain": [
       "   id                                 repair_name  repair_cost\n",
       "0   1                          Капитальный ремонт     94000000\n",
       "1   2                            Деповской ремонт     19000000\n",
       "2   3           Плановый предупредительный ремонт     13000000\n",
       "3   4  Вакуумная очистка и гидроиспытания (ВОиГИ)     18000000"
      ]
     },
     "execution_count": 5,
     "metadata": {},
     "output_type": "execute_result"
    }
   ],
   "source": [
    "repare_prices = pd.read_csv('dataset/Плановые ремонты со стоимостями.csv')\n",
    "repare_prices"
   ]
  },
  {
   "cell_type": "code",
   "execution_count": 6,
   "metadata": {
    "ExecuteTime": {
     "end_time": "2018-05-18T15:19:46.080681Z",
     "start_time": "2018-05-18T15:19:46.075009Z"
    }
   },
   "outputs": [],
   "source": [
    "repare_prices = {'std_kap': 94000000, \n",
    "                 'std_ppr': 19000000, \n",
    "                 'std_dep': 13000000, \n",
    "                 'std_vogi': 18000000, \n",
    "                 'preparation': 3000000}\n",
    "price_for_km = 1000"
   ]
  },
  {
   "cell_type": "code",
   "execution_count": 7,
   "metadata": {
    "ExecuteTime": {
     "end_time": "2018-05-18T13:43:24.923136Z",
     "start_time": "2018-05-18T13:43:24.906187Z"
    }
   },
   "outputs": [
    {
     "data": {
      "text/html": [
       "<div>\n",
       "<style scoped>\n",
       "    .dataframe tbody tr th:only-of-type {\n",
       "        vertical-align: middle;\n",
       "    }\n",
       "\n",
       "    .dataframe tbody tr th {\n",
       "        vertical-align: top;\n",
       "    }\n",
       "\n",
       "    .dataframe thead th {\n",
       "        text-align: right;\n",
       "    }\n",
       "</style>\n",
       "<table border=\"1\" class=\"dataframe\">\n",
       "  <thead>\n",
       "    <tr style=\"text-align: right;\">\n",
       "      <th></th>\n",
       "      <th>station_id</th>\n",
       "      <th>name</th>\n",
       "      <th>depo_id</th>\n",
       "      <th>depo_name</th>\n",
       "      <th>distance_to_depo</th>\n",
       "    </tr>\n",
       "  </thead>\n",
       "  <tbody>\n",
       "    <tr>\n",
       "      <th>0</th>\n",
       "      <td>1</td>\n",
       "      <td>Сосновка</td>\n",
       "      <td>1</td>\n",
       "      <td>Депо-Ленинское</td>\n",
       "      <td>10077</td>\n",
       "    </tr>\n",
       "    <tr>\n",
       "      <th>1</th>\n",
       "      <td>1</td>\n",
       "      <td>Сосновка</td>\n",
       "      <td>2</td>\n",
       "      <td>Депо-Комсомольское</td>\n",
       "      <td>10436</td>\n",
       "    </tr>\n",
       "    <tr>\n",
       "      <th>2</th>\n",
       "      <td>1</td>\n",
       "      <td>Сосновка</td>\n",
       "      <td>3</td>\n",
       "      <td>Депо-Молодежное</td>\n",
       "      <td>10522</td>\n",
       "    </tr>\n",
       "    <tr>\n",
       "      <th>3</th>\n",
       "      <td>2</td>\n",
       "      <td>Липовка</td>\n",
       "      <td>1</td>\n",
       "      <td>Депо-Ленинское</td>\n",
       "      <td>2084</td>\n",
       "    </tr>\n",
       "    <tr>\n",
       "      <th>4</th>\n",
       "      <td>2</td>\n",
       "      <td>Липовка</td>\n",
       "      <td>2</td>\n",
       "      <td>Депо-Комсомольское</td>\n",
       "      <td>3789</td>\n",
       "    </tr>\n",
       "  </tbody>\n",
       "</table>\n",
       "</div>"
      ],
      "text/plain": [
       "   station_id      name  depo_id           depo_name  distance_to_depo\n",
       "0           1  Сосновка        1      Депо-Ленинское             10077\n",
       "1           1  Сосновка        2  Депо-Комсомольское             10436\n",
       "2           1  Сосновка        3     Депо-Молодежное             10522\n",
       "3           2   Липовка        1      Депо-Ленинское              2084\n",
       "4           2   Липовка        2  Депо-Комсомольское              3789"
      ]
     },
     "execution_count": 7,
     "metadata": {},
     "output_type": "execute_result"
    }
   ],
   "source": [
    "distances = pd.read_csv('dataset/Расстояния от станций до ремонтных депо.csv')\n",
    "distances.head()"
   ]
  },
  {
   "cell_type": "code",
   "execution_count": null,
   "metadata": {},
   "outputs": [],
   "source": []
  },
  {
   "cell_type": "markdown",
   "metadata": {},
   "source": [
    "#### Посчитаем стоимость ремонтов, в случае, если делаем их по расписанию. \n",
    "\n",
    "Тут нужно сделать замечание, что мы считаем только 1 итерацию ремонтов. Правильнее будет посчитать все итерации: то есть если капитальный ремонт запланирован на 2021-08-08, но мы видим, что вагон эксплуатировался 2019 году, то 2019-08-08 у него должен был быть запланированный капитальный ремонт, т.к. ремонты утилизируются за 2 года"
   ]
  },
  {
   "cell_type": "code",
   "execution_count": 8,
   "metadata": {
    "ExecuteTime": {
     "end_time": "2018-05-19T08:05:39.853609Z",
     "start_time": "2018-05-19T08:05:39.789264Z"
    }
   },
   "outputs": [
    {
     "ename": "TypeError",
     "evalue": "get_station_from_date() takes exactly 2 arguments (1 given)",
     "output_type": "error",
     "traceback": [
      "\u001b[0;31m---------------------------------------------------------------------------\u001b[0m",
      "\u001b[0;31mTypeError\u001b[0m                                 Traceback (most recent call last)",
      "\u001b[0;32m<ipython-input-8-77c32dcbc34d>\u001b[0m in \u001b[0;36m<module>\u001b[0;34m()\u001b[0m\n\u001b[1;32m      8\u001b[0m \u001b[0;32mfor\u001b[0m \u001b[0mrepare_type\u001b[0m \u001b[0;32min\u001b[0m \u001b[0;34m[\u001b[0m\u001b[0;34m'std_kap'\u001b[0m\u001b[0;34m,\u001b[0m \u001b[0;34m'std_ppr'\u001b[0m\u001b[0;34m,\u001b[0m \u001b[0;34m'std_dep'\u001b[0m\u001b[0;34m,\u001b[0m \u001b[0;34m'std_vogi'\u001b[0m\u001b[0;34m]\u001b[0m\u001b[0;34m:\u001b[0m\u001b[0;34m\u001b[0m\u001b[0m\n\u001b[1;32m      9\u001b[0m     \u001b[0mrepare_date\u001b[0m \u001b[0;34m=\u001b[0m \u001b[0mrepares\u001b[0m\u001b[0;34m[\u001b[0m\u001b[0mrepare_type\u001b[0m\u001b[0;34m]\u001b[0m\u001b[0;34m.\u001b[0m\u001b[0mvalues\u001b[0m\u001b[0;34m[\u001b[0m\u001b[0;36m0\u001b[0m\u001b[0;34m]\u001b[0m\u001b[0;34m\u001b[0m\u001b[0m\n\u001b[0;32m---> 10\u001b[0;31m     \u001b[0mstation_id\u001b[0m \u001b[0;34m=\u001b[0m \u001b[0mget_station_from_date\u001b[0m\u001b[0;34m(\u001b[0m\u001b[0mrepare_date\u001b[0m\u001b[0;34m)\u001b[0m\u001b[0;34m\u001b[0m\u001b[0m\n\u001b[0m\u001b[1;32m     11\u001b[0m     \u001b[0mmin_distance_to_depo\u001b[0m \u001b[0;34m=\u001b[0m \u001b[0mdistances\u001b[0m\u001b[0;34m[\u001b[0m\u001b[0mdistances\u001b[0m\u001b[0;34m[\u001b[0m\u001b[0;34m'station_id'\u001b[0m\u001b[0;34m]\u001b[0m \u001b[0;34m==\u001b[0m \u001b[0;36m2\u001b[0m\u001b[0;34m]\u001b[0m\u001b[0;34m[\u001b[0m\u001b[0;34m'distance_to_depo'\u001b[0m\u001b[0;34m]\u001b[0m\u001b[0;34m.\u001b[0m\u001b[0mmin\u001b[0m\u001b[0;34m(\u001b[0m\u001b[0;34m)\u001b[0m\u001b[0;34m\u001b[0m\u001b[0m\n\u001b[1;32m     12\u001b[0m     \u001b[0mtotal_repare_price\u001b[0m \u001b[0;34m+=\u001b[0m \u001b[0;36m2\u001b[0m \u001b[0;34m*\u001b[0m \u001b[0mmin_distance_to_depo\u001b[0m \u001b[0;34m*\u001b[0m \u001b[0mprice_for_km\u001b[0m \u001b[0;34m+\u001b[0m             \u001b[0mrepare_prices\u001b[0m\u001b[0;34m[\u001b[0m\u001b[0mrepare_type\u001b[0m\u001b[0;34m]\u001b[0m \u001b[0;34m+\u001b[0m             \u001b[0mrepare_prices\u001b[0m\u001b[0;34m[\u001b[0m\u001b[0;34m'preparation'\u001b[0m\u001b[0;34m]\u001b[0m\u001b[0;34m\u001b[0m\u001b[0m\n",
      "\u001b[0;31mTypeError\u001b[0m: get_station_from_date() takes exactly 2 arguments (1 given)"
     ]
    }
   ],
   "source": [
    "def get_station_from_date(date, car_num):\n",
    "    for index, (car_num, station_date, station_id) in movements[movements['car_num'] == car].iterrows():\n",
    "        if station_date < date:\n",
    "            return station_id\n",
    "    assert False, 'No stations before this date'\n",
    "\n",
    "total_repare_price = 0\n",
    "for repare_type in ['std_kap', 'std_ppr', 'std_dep', 'std_vogi']:\n",
    "    repare_date = repares[repare_type].values[0]\n",
    "    station_id = get_station_from_date(repare_date)\n",
    "    min_distance_to_depo = distances[distances['station_id'] == 2]['distance_to_depo'].min()\n",
    "    total_repare_price += 2 * min_distance_to_depo * price_for_km + \\\n",
    "            repare_prices[repare_type] + \\\n",
    "            repare_prices['preparation']\n",
    "\n",
    "total_repare_price"
   ]
  },
  {
   "cell_type": "markdown",
   "metadata": {},
   "source": [
    "## Возможные варианты ремонта"
   ]
  },
  {
   "cell_type": "code",
   "execution_count": 13,
   "metadata": {},
   "outputs": [],
   "source": [
    "def get_station_from_date(date, car_num):\n",
    "    for index, (car_num, station_date, station_id) in movements[movements['car_num'] == car_num].iterrows():\n",
    "        if station_date < date:\n",
    "            return station_id\n",
    "    assert False, 'No stations before this date'\n",
    "\n",
    "total_repare_price = 0\n",
    "def repare_price(car_num, check_date, repare_types=repare_types):\n",
    "    check_date = np.datetime64(check_date)\n",
    "    total_repare_price = repare_prices['preparation']\n",
    "    for repare_type in repare_types:\n",
    "        station_id = get_station_from_date(check_date, car_num)\n",
    "        min_distance_to_depo = distances[distances['station_id'] == 2]['distance_to_depo'].min()\n",
    "        # Add path\n",
    "        total_repare_price += 2 * min_distance_to_depo * price_for_km\n",
    "        # Add repair cost\n",
    "        if repares[repares[\"car_num\"]==car_num][repare_type].values[0] <= check_date:\n",
    "            total_repare_price += repare_prices[repare_type]\n",
    "        else:\n",
    "            total_repare_price += repare_prices[repare_type] * 5\n",
    "    return total_repare_price"
   ]
  },
  {
   "cell_type": "code",
   "execution_count": null,
   "metadata": {},
   "outputs": [],
   "source": []
  },
  {
   "cell_type": "code",
   "execution_count": 14,
   "metadata": {},
   "outputs": [
    {
     "data": {
      "text/plain": [
       "numpy.datetime64('2021-07-19T00:00:00.000000000')"
      ]
     },
     "execution_count": 14,
     "metadata": {},
     "output_type": "execute_result"
    }
   ],
   "source": [
    "repare[repare_type].values[0]"
   ]
  },
  {
   "cell_type": "code",
   "execution_count": 15,
   "metadata": {},
   "outputs": [
    {
     "data": {
      "text/plain": [
       "True"
      ]
     },
     "execution_count": 15,
     "metadata": {},
     "output_type": "execute_result"
    }
   ],
   "source": [
    "# Test\n",
    "repare_price(car_num, repare[repare_type].values[0], repare_types=['std_kap', \"std_ppr\"]) > repare_price(car_num, repares[repare_type].values[0], repare_types=[\"std_ppr\"])"
   ]
  },
  {
   "cell_type": "code",
   "execution_count": 16,
   "metadata": {},
   "outputs": [
    {
     "data": {
      "text/plain": [
       "True"
      ]
     },
     "execution_count": 16,
     "metadata": {},
     "output_type": "execute_result"
    }
   ],
   "source": [
    "repare_price(car_num, repare[repare_type].values[0], repare_types=['std_kap', \"std_ppr\"]) / 1000000 == 124"
   ]
  },
  {
   "cell_type": "code",
   "execution_count": 17,
   "metadata": {},
   "outputs": [
    {
     "data": {
      "text/html": [
       "<div>\n",
       "<style scoped>\n",
       "    .dataframe tbody tr th:only-of-type {\n",
       "        vertical-align: middle;\n",
       "    }\n",
       "\n",
       "    .dataframe tbody tr th {\n",
       "        vertical-align: top;\n",
       "    }\n",
       "\n",
       "    .dataframe thead th {\n",
       "        text-align: right;\n",
       "    }\n",
       "</style>\n",
       "<table border=\"1\" class=\"dataframe\">\n",
       "  <thead>\n",
       "    <tr style=\"text-align: right;\">\n",
       "      <th></th>\n",
       "      <th>car_num</th>\n",
       "      <th>ct_name</th>\n",
       "      <th>psevdoname</th>\n",
       "      <th>std_kap</th>\n",
       "      <th>std_ppr</th>\n",
       "      <th>std_dep</th>\n",
       "      <th>std_vogi</th>\n",
       "      <th>prev_kap</th>\n",
       "      <th>prev_ppr</th>\n",
       "      <th>prev_dep</th>\n",
       "      <th>prev_vogi</th>\n",
       "    </tr>\n",
       "  </thead>\n",
       "  <tbody>\n",
       "    <tr>\n",
       "      <th>3</th>\n",
       "      <td>57463507</td>\n",
       "      <td>Газовые</td>\n",
       "      <td>15-78-5</td>\n",
       "      <td>2021-07-19</td>\n",
       "      <td>2019-03-18</td>\n",
       "      <td>2018-06-02</td>\n",
       "      <td>2019-05-18</td>\n",
       "      <td>2019-07-20</td>\n",
       "      <td>2017-03-18</td>\n",
       "      <td>2016-06-02</td>\n",
       "      <td>2016-06-02</td>\n",
       "    </tr>\n",
       "  </tbody>\n",
       "</table>\n",
       "</div>"
      ],
      "text/plain": [
       "    car_num  ct_name psevdoname    std_kap    std_ppr    std_dep   std_vogi  \\\n",
       "3  57463507  Газовые    15-78-5 2021-07-19 2019-03-18 2018-06-02 2019-05-18   \n",
       "\n",
       "    prev_kap   prev_ppr   prev_dep  prev_vogi  \n",
       "3 2019-07-20 2017-03-18 2016-06-02 2016-06-02  "
      ]
     },
     "execution_count": 17,
     "metadata": {},
     "output_type": "execute_result"
    }
   ],
   "source": [
    "repares[repares[\"car_num\"]==car_num]"
   ]
  },
  {
   "cell_type": "code",
   "execution_count": 20,
   "metadata": {},
   "outputs": [
    {
     "data": {
      "text/plain": [
       "numpy.datetime64('2018-05-18T00:00:00.000000')"
      ]
     },
     "execution_count": 20,
     "metadata": {},
     "output_type": "execute_result"
    }
   ],
   "source": [
    "from dateutil.parser import parse\n",
    "min_date = pd.to_datetime(parse(\"2018-05-18\"))\n",
    "min_date = np.datetime64(min_date)\n",
    "min_date"
   ]
  },
  {
   "cell_type": "code",
   "execution_count": 21,
   "metadata": {},
   "outputs": [
    {
     "data": {
      "text/plain": [
       "Timestamp('2015-04-05 00:00:00')"
      ]
     },
     "execution_count": 21,
     "metadata": {},
     "output_type": "execute_result"
    }
   ],
   "source": [
    "results = repares[\"std_ppr\"] == min_date\n",
    "repares[\"std_ppr\"].min()"
   ]
  },
  {
   "cell_type": "code",
   "execution_count": 22,
   "metadata": {},
   "outputs": [
    {
     "data": {
      "text/plain": [
       "265"
      ]
     },
     "execution_count": 22,
     "metadata": {},
     "output_type": "execute_result"
    }
   ],
   "source": [
    "repare_price(car_num, min_date, repare_types=['std_ppr', 'std_dep', 'std_vogi']) / 1000000"
   ]
  },
  {
   "cell_type": "code",
   "execution_count": 24,
   "metadata": {},
   "outputs": [
    {
     "ename": "TypeError",
     "evalue": "ufunc add cannot use operands with types dtype('<M8[us]') and dtype('O')",
     "output_type": "error",
     "traceback": [
      "\u001b[0;31m---------------------------------------------------------------------------\u001b[0m",
      "\u001b[0;31mTypeError\u001b[0m                                 Traceback (most recent call last)",
      "\u001b[0;32m<ipython-input-24-58b845200810>\u001b[0m in \u001b[0;36m<module>\u001b[0;34m()\u001b[0m\n\u001b[0;32m----> 1\u001b[0;31m \u001b[0mrepare_price\u001b[0m\u001b[0;34m(\u001b[0m\u001b[0mcar_num\u001b[0m\u001b[0;34m,\u001b[0m \u001b[0mmin_date\u001b[0m\u001b[0;34m+\u001b[0m\u001b[0mdatetime\u001b[0m\u001b[0;34m.\u001b[0m\u001b[0mtimedelta\u001b[0m\u001b[0;34m(\u001b[0m\u001b[0mdays\u001b[0m\u001b[0;34m=\u001b[0m\u001b[0;36m0\u001b[0m\u001b[0;34m)\u001b[0m\u001b[0;34m,\u001b[0m \u001b[0mrepare_types\u001b[0m\u001b[0;34m=\u001b[0m\u001b[0;34m[\u001b[0m\u001b[0;34m'std_ppr'\u001b[0m\u001b[0;34m,\u001b[0m \u001b[0;34m'std_dep'\u001b[0m\u001b[0;34m,\u001b[0m \u001b[0;34m'std_vogi'\u001b[0m\u001b[0;34m]\u001b[0m\u001b[0;34m)\u001b[0m \u001b[0;34m/\u001b[0m \u001b[0;36m1000000\u001b[0m\u001b[0;34m\u001b[0m\u001b[0m\n\u001b[0m",
      "\u001b[0;31mTypeError\u001b[0m: ufunc add cannot use operands with types dtype('<M8[us]') and dtype('O')"
     ]
    }
   ],
   "source": [
    "repare_price(car_num, min_date+datetime.timedelta(days=0), repare_types=['std_ppr', 'std_dep', 'std_vogi']) / 1000000"
   ]
  },
  {
   "cell_type": "code",
   "execution_count": null,
   "metadata": {},
   "outputs": [],
   "source": []
  },
  {
   "cell_type": "code",
   "execution_count": 25,
   "metadata": {},
   "outputs": [
    {
     "data": {
      "text/plain": [
       "numpy.datetime64('2021-07-19T00:00:00.000000000')"
      ]
     },
     "execution_count": 25,
     "metadata": {},
     "output_type": "execute_result"
    }
   ],
   "source": [
    "repares[repares[\"car_num\"]==car_num][repare_type].values[0]"
   ]
  },
  {
   "cell_type": "code",
   "execution_count": 26,
   "metadata": {},
   "outputs": [
    {
     "data": {
      "text/plain": [
       "False"
      ]
     },
     "execution_count": 26,
     "metadata": {},
     "output_type": "execute_result"
    }
   ],
   "source": [
    "repares[repares[\"car_num\"]==car_num][repare_type].values[0] < min_date"
   ]
  },
  {
   "cell_type": "code",
   "execution_count": 27,
   "metadata": {},
   "outputs": [
    {
     "data": {
      "text/plain": [
       "numpy.datetime64('2021-07-19T00:00:00.000000000')"
      ]
     },
     "execution_count": 27,
     "metadata": {},
     "output_type": "execute_result"
    }
   ],
   "source": [
    "repares[repares[\"car_num\"]==car_num][repare_type].values[0]"
   ]
  },
  {
   "cell_type": "code",
   "execution_count": 28,
   "metadata": {},
   "outputs": [
    {
     "data": {
      "text/plain": [
       "213"
      ]
     },
     "execution_count": 28,
     "metadata": {},
     "output_type": "execute_result"
    }
   ],
   "source": [
    "repare_price(car_num, min_date+pd.Timedelta('100 days'), repare_types=['std_ppr', 'std_dep', 'std_vogi']) / 1000000"
   ]
  },
  {
   "cell_type": "code",
   "execution_count": null,
   "metadata": {},
   "outputs": [],
   "source": []
  },
  {
   "cell_type": "code",
   "execution_count": 29,
   "metadata": {},
   "outputs": [],
   "source": [
    "import itertools\n",
    "\n",
    "def powerset(L):\n",
    "  pset = set()\n",
    "  for n in xrange(len(L) + 1):\n",
    "    for sset in itertools.combinations(L, n):\n",
    "      #if sset:\n",
    "      pset.add(sset)\n",
    "  return pset"
   ]
  },
  {
   "cell_type": "code",
   "execution_count": 30,
   "metadata": {},
   "outputs": [],
   "source": [
    "import itertools\n"
   ]
  },
  {
   "cell_type": "code",
   "execution_count": 31,
   "metadata": {},
   "outputs": [],
   "source": [
    "from hyperopt import hp\n",
    "# space = hp.choice('parameters', ['repare_types':powerset(repare_types), 'repare_types':powerset(repare_types)])"
   ]
  },
  {
   "cell_type": "code",
   "execution_count": 32,
   "metadata": {},
   "outputs": [],
   "source": [
    "#hyperopt.fmin()"
   ]
  },
  {
   "cell_type": "code",
   "execution_count": 41,
   "metadata": {},
   "outputs": [],
   "source": [
    "import time, pickle, hyperopt\n",
    "from hyperopt import fmin, tpe, hp, STATUS_OK, Trials\n",
    "\n",
    "def objective(x, car_num=car_num, check_date=min_date):\n",
    "    return {\n",
    "        'loss': repare_price(repare_types=x, car_num=car_num, check_date=repare_date),\n",
    "        'status': STATUS_OK,\n",
    "        # -- store other results like this\n",
    "        'eval_time': time.time(),\n",
    "        'other_stuff': {'type': None, 'value': [0, 1, 2]},\n",
    "        # -- attachments are handled differently\n",
    "        'attachments':\n",
    "            {'time_module': pickle.dumps(time.time)}\n",
    "        }\n",
    "trials = Trials()\n",
    "space = hp.choice('repare_types',powerset(repare_types))\n",
    "\n",
    "\n",
    "best = fmin(objective,\n",
    "    space=space,\n",
    "    algo=tpe.suggest,\n",
    "    trials=trials,\n",
    "    max_evals=100)"
   ]
  },
  {
   "cell_type": "code",
   "execution_count": 42,
   "metadata": {},
   "outputs": [
    {
     "data": {
      "text/plain": [
       "()"
      ]
     },
     "execution_count": 42,
     "metadata": {},
     "output_type": "execute_result"
    }
   ],
   "source": [
    "hyperopt.space_eval(space, best)"
   ]
  },
  {
   "cell_type": "code",
   "execution_count": 43,
   "metadata": {},
   "outputs": [],
   "source": [
    "# for i in range(-10,100):\n",
    "#     repare_date=min_date+pd.Timedelta(i, unit=\"d\")\n",
    "#     trials = Trials()\n",
    "#     best = fmin(objective,\n",
    "#         space=space,\n",
    "#         algo=tpe.suggest,\n",
    "#         trials=trials,\n",
    "#         max_evals=20)\n",
    "#     print(hyperopt.space_eval(space, best))"
   ]
  },
  {
   "cell_type": "code",
   "execution_count": 44,
   "metadata": {},
   "outputs": [],
   "source": [
    "#space = hp.choice('parameters', parameters)"
   ]
  },
  {
   "cell_type": "code",
   "execution_count": 45,
   "metadata": {},
   "outputs": [],
   "source": [
    "def inverse_mapping(f):\n",
    "    return f.__class__(map(reversed, f.items()))"
   ]
  },
  {
   "cell_type": "code",
   "execution_count": 46,
   "metadata": {},
   "outputs": [],
   "source": [
    "#word_counter_dictionary = {'first':1, 'second':2, 'third':3, 'fourth':2}\n",
    "from collections import defaultdict\n",
    "\n",
    "def inverse_mapping(dict_to_invert):\n",
    "    # Mapping support repatable keys\n",
    "    d = defaultdict(list)\n",
    "    for key, value in dict_to_invert.iteritems():\n",
    "        d[value].append(key)\n",
    "    return(d)"
   ]
  },
  {
   "cell_type": "code",
   "execution_count": 52,
   "metadata": {},
   "outputs": [],
   "source": [
    "def sum_multiple_repair(typles_dates_type, car_num = car_num):\n",
    "    all_repairs_price = 0\n",
    "    for date in typles_dates_type:\n",
    "        repairs=typles_dates_type[date]\n",
    "        all_repairs_price += repare_price(repare_types=repairs, car_num=car_num, check_date=date)\n",
    "    return all_repairs_price"
   ]
  },
  {
   "cell_type": "code",
   "execution_count": null,
   "metadata": {},
   "outputs": [],
   "source": []
  },
  {
   "cell_type": "code",
   "execution_count": null,
   "metadata": {},
   "outputs": [],
   "source": []
  },
  {
   "cell_type": "code",
   "execution_count": 53,
   "metadata": {},
   "outputs": [
    {
     "name": "stdout",
     "output_type": "stream",
     "text": [
      "57463507\n",
      "57463507\n",
      "57463507\n",
      "57463507\n",
      "57463507\n",
      "57463507\n",
      "57463507\n",
      "57463507\n",
      "57463507\n",
      "57463507\n",
      "57463507\n",
      "57463507\n",
      "57463507\n",
      "57463507\n",
      "57463507\n",
      "57463507\n",
      "57463507\n",
      "57463507\n",
      "57463507\n",
      "57463507\n",
      "57463507\n",
      "57463507\n",
      "57463507\n",
      "57463507\n",
      "57463507\n",
      "57463507\n",
      "57463507\n",
      "57463507\n",
      "57463507\n",
      "57463507\n",
      "57463507\n",
      "57463507\n",
      "57463507\n",
      "57463507\n",
      "57463507\n",
      "57463507\n",
      "57463507\n",
      "57463507\n",
      "57463507\n",
      "57463507\n",
      "57463507\n",
      "57463507\n",
      "57463507\n",
      "57463507\n",
      "57463507\n",
      "57463507\n",
      "57463507\n",
      "57463507\n",
      "57463507\n",
      "57463507\n",
      "57463507\n",
      "57463507\n",
      "57463507\n",
      "57463507\n",
      "57463507\n",
      "57463507\n",
      "57463507\n",
      "57463507\n",
      "57463507\n",
      "57463507\n",
      "57463507\n",
      "57463507\n",
      "57463507\n",
      "57463507\n",
      "57463507\n",
      "57463507\n",
      "57463507\n",
      "57463507\n",
      "57463507\n",
      "57463507\n",
      "57463507\n",
      "57463507\n",
      "57463507\n",
      "57463507\n",
      "57463507\n",
      "57463507\n",
      "57463507\n",
      "57463507\n",
      "57463507\n",
      "57463507\n",
      "57463507\n",
      "57463507\n",
      "57463507\n",
      "57463507\n",
      "57463507\n",
      "57463507\n",
      "57463507\n",
      "57463507\n",
      "57463507\n",
      "57463507\n",
      "57463507\n",
      "57463507\n",
      "57463507\n",
      "57463507\n",
      "57463507\n",
      "57463507\n",
      "57463507\n",
      "57463507\n",
      "57463507\n",
      "57463507\n"
     ]
    }
   ],
   "source": [
    "import time, pickle, hyperopt\n",
    "from hyperopt import fmin, tpe, hp, STATUS_OK, Trials\n",
    "\n",
    "def parameters(car_num):\n",
    "    parameters = {}\n",
    "\n",
    "    repare = repares[repares['car_num'] == car_num]\n",
    "    repare_melt=repare.melt()\n",
    "    repare_melt=repare_melt[repare_melt[\"variable\"].isin(repare_types)]\n",
    "    repare_melt[\"value\"]=pd.to_datetime(repare_melt[\"value\"])    \n",
    "\n",
    "    for repare in repare_types:\n",
    "        parameters[repare] = hp.choice(repare, pd.date_range(repare_melt[\"value\"].min(), repare_melt[\"value\"].max(), freq='D'))\n",
    "    return parameters\n",
    "\n",
    "big_space=parameters(car_num)\n",
    "def objective(x, car_num=car_num, repare_date=min_date):\n",
    "    print(car_num)\n",
    "    price = sum_multiple_repair(inverse_mapping(x), car_num=car_num)\n",
    "    return {\n",
    "        'loss': price,\n",
    "        'status': STATUS_OK,\n",
    "        # -- store other results like this\n",
    "        'eval_time': time.time(),\n",
    "        'other_stuff': {'type': None, 'value': [0, 1, 2]},\n",
    "        # -- attachments are handled differently\n",
    "        'attachments':\n",
    "            {'time_module': pickle.dumps(time.time)}\n",
    "        }\n",
    "trials = Trials()\n",
    "best = fmin(objective,\n",
    "    space=big_space,\n",
    "    algo=tpe.suggest,\n",
    "    trials=trials,\n",
    "    max_evals=100)"
   ]
  },
  {
   "cell_type": "code",
   "execution_count": 59,
   "metadata": {},
   "outputs": [
    {
     "data": {
      "text/plain": [
       "defaultdict(list,\n",
       "            {Timestamp('2019-06-07 00:00:00', freq='D'): ['std_vogi'],\n",
       "             Timestamp('2020-06-13 00:00:00', freq='D'): ['std_kap'],\n",
       "             Timestamp('2021-03-01 00:00:00', freq='D'): ['std_dep'],\n",
       "             Timestamp('2021-07-04 00:00:00', freq='D'): ['std_ppr']})"
      ]
     },
     "execution_count": 59,
     "metadata": {},
     "output_type": "execute_result"
    }
   ],
   "source": [
    "params = inverse_mapping(hyperopt.pyll.stochastic.sample(parameters(car_num)))\n",
    "params"
   ]
  },
  {
   "cell_type": "code",
   "execution_count": 60,
   "metadata": {},
   "outputs": [
    {
     "data": {
      "text/plain": [
       "548672000"
      ]
     },
     "execution_count": 60,
     "metadata": {},
     "output_type": "execute_result"
    }
   ],
   "source": [
    "sum_multiple_repair(params, car_num=car_num)"
   ]
  },
  {
   "cell_type": "code",
   "execution_count": 65,
   "metadata": {},
   "outputs": [
    {
     "data": {
      "text/plain": [
       "True"
      ]
     },
     "execution_count": 65,
     "metadata": {},
     "output_type": "execute_result"
    }
   ],
   "source": [
    "sum_multiple_repair(params, car_num=car_num) > sum_multiple_repair(inverse_mapping(hyperopt.space_eval(big_space, best)), car_num=car_num)"
   ]
  },
  {
   "cell_type": "code",
   "execution_count": 66,
   "metadata": {},
   "outputs": [
    {
     "data": {
      "text/plain": [
       "545672000"
      ]
     },
     "execution_count": 66,
     "metadata": {},
     "output_type": "execute_result"
    }
   ],
   "source": [
    "sum_multiple_repair(inverse_mapping(hyperopt.space_eval(big_space, best)), car_num=car_num)"
   ]
  },
  {
   "cell_type": "code",
   "execution_count": null,
   "metadata": {},
   "outputs": [],
   "source": []
  }
 ],
 "metadata": {
  "kernelspec": {
   "display_name": "Python 2",
   "language": "python",
   "name": "python2"
  },
  "language_info": {
   "codemirror_mode": {
    "name": "ipython",
    "version": 2
   },
   "file_extension": ".py",
   "mimetype": "text/x-python",
   "name": "python",
   "nbconvert_exporter": "python",
   "pygments_lexer": "ipython2",
   "version": "2.7.14"
  }
 },
 "nbformat": 4,
 "nbformat_minor": 2
}
